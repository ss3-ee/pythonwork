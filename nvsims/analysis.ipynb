{
 "cells": [
  {
   "cell_type": "code",
   "execution_count": 1,
   "metadata": {
    "collapsed": false
   },
   "outputs": [
    {
     "name": "stdout",
     "output_type": "stream",
     "text": [
      "Using matplotlib backend: Qt4Agg\n",
      "Populating the interactive namespace from numpy and matplotlib\n"
     ]
    }
   ],
   "source": [
    "%pylab\n",
    "%matplotlib inline"
   ]
  },
  {
   "cell_type": "code",
   "execution_count": 4,
   "metadata": {
    "collapsed": false
   },
   "outputs": [
    {
     "name": "stdout",
     "output_type": "stream",
     "text": [
      "[[ 1  0]\n",
      " [ 0 -1]]\n",
      "[[1 0]\n",
      " [0 1]]\n"
     ]
    }
   ],
   "source": [
    "sz = np.matrix([[1,0], [0, -1]])\n",
    "si = sz*sz\n",
    "print(sz)\n",
    "print(si)"
   ]
  },
  {
   "cell_type": "code",
   "execution_count": 14,
   "metadata": {
    "collapsed": false
   },
   "outputs": [
    {
     "name": "stdout",
     "output_type": "stream",
     "text": [
      "at field of 200.0 Gauss\n",
      "[ 3430.  2310.]\n",
      "[[ 1.  0.]\n",
      " [ 0.  1.]]\n"
     ]
    },
    {
     "data": {
      "text/plain": [
       "<matplotlib.legend.Legend at 0x1b8ef39e278>"
      ]
     },
     "execution_count": 14,
     "metadata": {},
     "output_type": "execute_result"
    },
    {
     "data": {
      "image/png": "[encoded data removed]",
      "text/plain": [
       "<matplotlib.figure.Figure at 0x1b8ef39e198>"
      ]
     },
     "metadata": {},
     "output_type": "display_data"
    }
   ],
   "source": [
    "gamma = 2.8   # 2.8 MHz per gauss\n",
    "Bfield = 200\n",
    "Dzfs = 2870    # 2.87 GHz zero field splitting\n",
    "ham = gamma*Bfield*sz + Dzfs*si\n",
    "vals, vect = np.linalg.eig(ham)\n",
    "print('at field of %.1f Gauss'%Bfield)\n",
    "print(vals)\n",
    "print(vect)\n",
    "\n",
    "bvect = np.linspace(0, 300, 3000)\n",
    "elevels = []\n",
    "for bfield in bvect:\n",
    "    ham = gamma*bfield*sz + Dzfs*si\n",
    "    vals, vect = np.linalg.eig(ham)\n",
    "    elevels.append(vals)\n",
    "    \n",
    "plot(bvect, elevels)\n",
    "xlabel('Magnetic Field (Gauss)')\n",
    "ylabel('Transition Frequency from $m_s = 0$')\n",
    "legend(['$m_s = +1$', '$m_s = -1$'], loc='best')"
   ]
  },
  {
   "cell_type": "code",
   "execution_count": null,
   "metadata": {
    "collapsed": true
   },
   "outputs": [],
   "source": []
  }
 ],
 "metadata": {
  "kernelspec": {
   "display_name": "Python [Root]",
   "language": "python",
   "name": "Python [Root]"
  },
  "language_info": {
   "codemirror_mode": {
    "name": "ipython",
    "version": 3
   },
   "file_extension": ".py",
   "mimetype": "text/x-python",
   "name": "python",
   "nbconvert_exporter": "python",
   "pygments_lexer": "ipython3",
   "version": "3.5.2"
  }
 },
 "nbformat": 4,
 "nbformat_minor": 0
}
